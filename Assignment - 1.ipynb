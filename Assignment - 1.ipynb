{
 "cells": [
  {
   "cell_type": "markdown",
   "metadata": {},
   "source": [
    "# Task 1"
   ]
  },
  {
   "cell_type": "markdown",
   "metadata": {},
   "source": [
    "## Question - 2\n",
    "### Find numbers divisible by 7 but not multiple of 5 between 2000 and 3200(Both Included)"
   ]
  },
  {
   "cell_type": "code",
   "execution_count": 18,
   "metadata": {},
   "outputs": [
    {
     "name": "stdout",
     "output_type": "stream",
     "text": [
      "Enter the first number in the range2000\n",
      "Enter the last number in the range3200\n",
      "We have come to the end of search.We will present the list now.\n",
      "The list of numbers which match the condition is : \n",
      " [2002, 2009, 2016, 2023, 2037, 2044, 2051, 2058, 2072, 2079, 2086, 2093, 2107, 2114, 2121, 2128, 2142, 2149, 2156, 2163, 2177, 2184, 2191, 2198, 2212, 2219, 2226, 2233, 2247, 2254, 2261, 2268, 2282, 2289, 2296, 2303, 2317, 2324, 2331, 2338, 2352, 2359, 2366, 2373, 2387, 2394, 2401, 2408, 2422, 2429, 2436, 2443, 2457, 2464, 2471, 2478, 2492, 2499, 2506, 2513, 2527, 2534, 2541, 2548, 2562, 2569, 2576, 2583, 2597, 2604, 2611, 2618, 2632, 2639, 2646, 2653, 2667, 2674, 2681, 2688, 2702, 2709, 2716, 2723, 2737, 2744, 2751, 2758, 2772, 2779, 2786, 2793, 2807, 2814, 2821, 2828, 2842, 2849, 2856, 2863, 2877, 2884, 2891, 2898, 2912, 2919, 2926, 2933, 2947, 2954, 2961, 2968, 2982, 2989, 2996, 3003, 3017, 3024, 3031, 3038, 3052, 3059, 3066, 3073, 3087, 3094, 3101, 3108, 3122, 3129, 3136, 3143, 3157, 3164, 3171, 3178, 3192, 3199]\n"
     ]
    }
   ],
   "source": [
    "# Allowing user to input the number range.\n",
    "first_num = int(input(\"Enter the first number in the range\"))\n",
    "last_num = int(input(\"Enter the last number in the range\"))\n",
    "list_of_numbers = []\n",
    "# while loop to check the condition\n",
    "if first_num >= last_num:\n",
    "    print(\"Are you sure? The first number should ideally be lesser than last number\")\n",
    "while first_num <= last_num:\n",
    "    if first_num%7 == 0 and first_num%5 != 0:\n",
    "        list_of_numbers.append(first_num)\n",
    "    first_num = first_num + 1\n",
    "print(\"We have come to the end of search.We will present the list now.\")\n",
    "print(\"The list of numbers which match the condition is : \\n {}\".format(list_of_numbers))\n",
    "        "
   ]
  },
  {
   "cell_type": "markdown",
   "metadata": {},
   "source": [
    "## Question 3\n",
    "### Accept user's name and print them in reverse order"
   ]
  },
  {
   "cell_type": "code",
   "execution_count": 17,
   "metadata": {},
   "outputs": [
    {
     "name": "stdout",
     "output_type": "stream",
     "text": [
      "Enter your first name pleaseIpsita \n",
      "Enter your last name pleasePanda\n",
      "Thanks for the details.You would see the reverse order of your name now.\n",
      "Your reversed name is  atispI adnaP\n"
     ]
    }
   ],
   "source": [
    "First_Name = input(\"Enter your first name please\")\n",
    "Last_Name = input(\"Enter your last name please\")\n",
    "print(\"Thanks for the details.You would see the reverse order of your name now.\")\n",
    "First_name_reversed = First_Name[::-1]\n",
    "Last_name_reversed = Last_Name[::-1]\n",
    "print(\"Your reversed name is {0} {1}\".format(First_name_reversed,Last_name_reversed))"
   ]
  },
  {
   "cell_type": "markdown",
   "metadata": {},
   "source": [
    "## Question 4\n",
    "### Find the volume of sphere with diameter 12 cm ?"
   ]
  },
  {
   "cell_type": "code",
   "execution_count": 19,
   "metadata": {},
   "outputs": [
    {
     "name": "stdout",
     "output_type": "stream",
     "text": [
      "Enter the diameter of sphere: 12\n",
      "The volume of sphere is : 904.7786842338603\n"
     ]
    }
   ],
   "source": [
    "import math as m\n",
    "diameter = float(input(\"Enter the diameter of sphere: \"))\n",
    "pie = m.pi\n",
    "radius = diameter/2\n",
    "Vol_sphere = 4/3*pie*(radius**3)\n",
    "print(\"The volume of sphere is : {}\".format(Vol_sphere))"
   ]
  },
  {
   "cell_type": "markdown",
   "metadata": {},
   "source": [
    "# Task 2"
   ]
  },
  {
   "cell_type": "markdown",
   "metadata": {},
   "source": [
    "## Question 1\n",
    "### Write a program which accepts comma separated numbers from console and generate a list?"
   ]
  },
  {
   "cell_type": "code",
   "execution_count": 20,
   "metadata": {},
   "outputs": [
    {
     "name": "stdout",
     "output_type": "stream",
     "text": [
      "Enter comma separated list of numbers you would like to add to a list : \n",
      " 1,2,3,4,5,6,7\n",
      "Now the numbers you provided have been converted into a list.Please check below \n",
      " [1, 2, 3, 4, 5, 6, 7]\n"
     ]
    }
   ],
   "source": [
    "# Take the input from user \n",
    "list_of_number = input(\"Enter comma separated list of numbers you would like to add to a list : \\n \")\n",
    "new_list = list_of_number.split(\",\")\n",
    "required_list_of_numbers = []\n",
    "for i in new_list:\n",
    "    if list_of_number.endswith(\",\") == True or i == \"\":\n",
    "        print(\"You cannot end by comma or enter null value in between.\")\n",
    "        break\n",
    "    required_list_of_numbers.append(int(i))\n",
    "    \n",
    "print(\"Now the numbers you provided have been converted into a list.Please check below \\n {}\".format(required_list_of_numbers))\n"
   ]
  },
  {
   "cell_type": "markdown",
   "metadata": {},
   "source": [
    "## Question 2\n",
    "### Create a pattern using nested for loop ?"
   ]
  },
  {
   "cell_type": "code",
   "execution_count": 21,
   "metadata": {},
   "outputs": [
    {
     "name": "stdout",
     "output_type": "stream",
     "text": [
      "*\n",
      "**\n",
      "***\n",
      "****\n",
      "*****\n",
      "****\n",
      "***\n",
      "**\n",
      "*\n",
      "\n"
     ]
    }
   ],
   "source": [
    "m = 2\n",
    "for i in range(1,11):\n",
    "    if i <= 5:\n",
    "        print(\"*\"*i)\n",
    "    else:\n",
    "        print(\"*\"*(i-m))\n",
    "        m = m + 2"
   ]
  },
  {
   "cell_type": "markdown",
   "metadata": {},
   "source": [
    "## Question 3 \n",
    "### Write a program to reverse a word\n"
   ]
  },
  {
   "cell_type": "code",
   "execution_count": 16,
   "metadata": {},
   "outputs": [
    {
     "name": "stdout",
     "output_type": "stream",
     "text": [
      "Enter a word you would like to reverse : AcadGild\n",
      "dliGdacA\n"
     ]
    }
   ],
   "source": [
    "user_input = input(\"Enter a word you would like to reverse : \")\n",
    "length = len(user_input) - 1\n",
    "new_word = str()\n",
    "while length >= 0:\n",
    "    new_word = new_word + user_input[length]\n",
    "    length = length - 1\n",
    "print(new_word)"
   ]
  },
  {
   "cell_type": "markdown",
   "metadata": {},
   "source": [
    "## Question 4 \n",
    "### To write the string in a specific format?"
   ]
  },
  {
   "cell_type": "code",
   "execution_count": 25,
   "metadata": {},
   "outputs": [
    {
     "name": "stdout",
     "output_type": "stream",
     "text": [
      "WE, THE PEOPLE OF INDIA,\n",
      "\thaving solemnly resolved to constitute India into a SOVEREIGN,!\n",
      "\t\tSOCIALIST, SECULAR, DEMOCRATIC REPUBLIC\n",
      "\t\tand to secure to all its citizens.\n"
     ]
    }
   ],
   "source": [
    "string = \"WE, THE PEOPLE OF INDIA,{}having solemnly resolved to constitute India into a SOVEREIGN,{}SOCIALIST, SECULAR, DEMOCRATIC REPUBLIC{}and to secure to all its citizens.\"\n",
    "print(string.format('\\n\\t','!\\n\\t\\t','\\n\\t\\t'))"
   ]
  },
  {
   "cell_type": "code",
   "execution_count": null,
   "metadata": {},
   "outputs": [],
   "source": []
  }
 ],
 "metadata": {
  "kernelspec": {
   "display_name": "Python 3",
   "language": "python",
   "name": "python3"
  },
  "language_info": {
   "codemirror_mode": {
    "name": "ipython",
    "version": 3
   },
   "file_extension": ".py",
   "mimetype": "text/x-python",
   "name": "python",
   "nbconvert_exporter": "python",
   "pygments_lexer": "ipython3",
   "version": "3.7.3"
  }
 },
 "nbformat": 4,
 "nbformat_minor": 2
}
